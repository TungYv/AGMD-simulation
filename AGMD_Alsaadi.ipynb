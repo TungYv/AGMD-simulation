{
 "cells": [
  {
   "cell_type": "markdown",
   "metadata": {},
   "source": [
    "'''\n",
    "This notebook is used for AGMD programming.\n",
    "'''"
   ]
  },
  {
   "cell_type": "code",
   "execution_count": 1,
   "metadata": {
    "collapsed": true
   },
   "outputs": [],
   "source": [
    "import numpy as np\n",
    "# from matplotlib import pyplot"
   ]
  },
  {
   "cell_type": "code",
   "execution_count": 2,
   "metadata": {
    "collapsed": false
   },
   "outputs": [],
   "source": [
    "def InitCase(Case):\n",
    "    '''\n",
    "    Initial the working environment of the model.\n",
    "    '''\n",
    "    if Case == 'fig8':\n",
    "        # for co-current regime mh = 1.5 LPM\n",
    "        ## Fig. 8, runs on 1-5\n",
    "        mh0 = 1.5*60 #(kg/hr) 1.-10.LPM Mass of hot water inlet.\n",
    "        mc = 1.5*60 # (kg/hr) 1.-10.LPM Mass flux of cold side saline water.\n",
    "        Thb0 = 80. # (C) hotside inlet temperature at x = 0\n",
    "        TcbL = 20. # (C) coldside inlet temperature at x = L\n",
    "        K_hotwater = 65.5e-2*3600/1000 ## kJ/(m K hr) = kW/(m K)/3600 may or not use functions.\n",
    "        K_coldwater = 62.1e-2*3.6 ## kJ/(m K hr) = kW/(m K)/3600 may use functions.\n",
    "        Sh = 42. #(g/kg) Salinity of hot water.\n",
    "        Sc = 0. #(g/kg) 0. or sea water. Salinity of cold water.\n",
    "        \n",
    "        # For modeling\n",
    "        ## 10cm*5cm membrane? 15m*1m? But teacher said make width = 1.0 m\n",
    "        length_x = 10.0e-2 #(m) the length of the model\n",
    "        W = 5.0e-2 # (m) width(horizontal) of the model, vertical to the paper.\n",
    "        height = 2.0e-3 #(m) height of water channel for both hotside and coldside.\n",
    "        delta_a = 9e-3 # (m) Width of the air gap.\n",
    "        \n",
    "        # For membrane\n",
    "        d = 0.2e-6 #(m) 0.2um or 0.45um, pore size of membrane(PTFE)\n",
    "        tau = 1.5 # 1.5 or 2 membrane pores tortuosiity\n",
    "    elif Case == \"fig11\":\n",
    "        raise ValueError(\"Not for other conditions now!\")\n",
    "    \n",
    "    return mh0,mc,Thb0,TcbL,K_hotwater,K_coldwater,Sh,Sc,length_x,W,height,delta_a,d,tau"
   ]
  },
  {
   "cell_type": "code",
   "execution_count": 3,
   "metadata": {
    "collapsed": false
   },
   "outputs": [],
   "source": [
    "# Global Parameters\n",
    "'''densities of water and gas do not change.'''\n",
    "'''Please input a string indicates fig.NO.'''\n",
    "mh0,mc,Thb0,TcbL,K_hotwater,K_coldwater,Sh,Sc,length_x,W,height,delta_a,d,tau = InitCase(\"fig8\")\n",
    "# Mesh setup\n",
    "# length_x = 15. #(m) the length of the model\n",
    "Nx = 300 # number of total grids\n",
    "x = np.linspace(0,length_x,Nx)\n",
    "dx = length_x/(Nx-1)\n",
    "\n",
    "# Modeling situation\n",
    "# mh0 = 1.5*60 #(kg/hr) Mass of hot water inlet.\n",
    "# W = # (m) width(horizontal) of the model, vertical to the paper.\n",
    "# delta_a = 9e-3 # (m) Width of the air gap.\n",
    "delta_c = 0.25e-3 # (m) Thickness of coolant wall--stainless steel sheet.\n",
    "\n",
    "# Universal constant\n",
    "Mv = 18 # water 18kg/kmole\n",
    "R = 8.314 #(J/(kmol K)) kmol, J unsure...\n",
    "g = 9.80 # (m/s2) gravity\n",
    "Ptotal = 101325 # Total pressure in the model, p = 101325Pa.\n",
    "\n",
    "\n",
    "## for the membrane\n",
    "# d = 0.2e-6 #(m) 0.2um or 0.45um, pore size of membrane(PTFE)\n",
    "epsilon = 0.8 # 80% membrane porosity\n",
    "delta_m = 100e-6# (m) Attention! b (in the article) == delta_m. Thickness of membrane.\n",
    "# tau = 1.5 # membrane pores tortuosiity\n",
    "Kair = 2.93e-2*3.6 #kJ/(m K hr) = kW/(m K)/3600 From 'Heat Transfer' dry air property\n",
    "Km = 0.29*3.6 #kJ/(m K hr) = kW/(m K)/3600 From A.G Fane.2003, at 75C.\n",
    "K = epsilon*Kair + (1-epsilon)*Km\n",
    "\n",
    "## for the spacer\n",
    "df = 0.4e-3 # (m) filament diameter\n",
    "hs = 0.8e-3 #(m) thickness of spacer\n",
    "epsilon_s = .7785 # 77.85% spacer porosity from [28]\n",
    "Kab = 2.90e-2*3.6 #kJ/(m K hr) = kW/(m K)/3600 thermal conductivity of air mixture in air gap. From \"heat transer\"\n",
    "\n",
    "\n",
    "# For hot side\n",
    "# Thb0 = 80. # (C) hotside inlet temperature at x = 0\n",
    "# K_hotwater = # kJ/(m K hr) = kW/(m K)/3600 use functions.\n",
    "rho_hotwater = 980. #(kg/m3)\n",
    "# Sh = 42. #(g/kg) Salinity of hot water.\n",
    "Cp_hot = 4.185 #(kJ/kg/C)\n",
    "\n",
    "# For falling liquid film\n",
    "rho_l = 993.5 #(kg/m3) density of falling liquid water. From 'heat transfer'\n",
    "rho_av = 1.05 # (kg/m3) density of gas mixture in air gap. From both 'heat transfer and thermal dynamics'\n",
    "Kf = 63.0e-2*3.6 # kJ/(m K hr) = kW/(m K)/3600 thermal condutivity of falling water. From \"Heat Transer\" \n",
    "\n",
    "# For cold side\n",
    "# TcbL = 20. # (C) coldside inlet temperature at x = L\n",
    "# K_coldwater = # kJ/(m K hr) = kW/(m K)/3600 use functions.\n",
    "Kw = 40.*3.6 #kJ/(m K hr) = kW/(m K)/3600 40(char-steel). From \"Heat Transfer\"\n",
    "rho_coldwater = 993. #(kg/m3), From \"heat transer\"\n",
    "# Sc = 0. # (g/kg) \n",
    "Cp_cold = 4.179 # (kJ/kg/C)\n",
    "# mc = 1.5*60 # (kg/hr) mass flux of cold side saline water."
   ]
  },
  {
   "cell_type": "code",
   "execution_count": 4,
   "metadata": {
    "collapsed": true
   },
   "outputs": [],
   "source": [
    "# Compute C\n",
    "def CalculateC(T, P, Pv):\n",
    "    '''Params\n",
    "    -----------\n",
    "    Some are global variables\n",
    "    T: Average temperature in membrane.(C)\n",
    "    P: Total pressure in membrane.(Pa)\n",
    "    Pv: Vapour pressure in membrane.(Pa)\n",
    "    \n",
    "    Return\n",
    "    --------\n",
    "    C: membrane mass transfer coefficient.(kg/m2/hr/Pa)\n",
    "    '''\n",
    "    return 7.81*d*epsilon/delta_m/tau * \\\n",
    "            Mv*T**1.072/(5.685*(2*np.pi*R*Mv*T)**.5+4*d*R*(P-Pv))"
   ]
  },
  {
   "cell_type": "code",
   "execution_count": 5,
   "metadata": {
    "collapsed": true
   },
   "outputs": [],
   "source": [
    "# Compute Thm\n",
    "def VerifyThm(Q, Hh, Thb):\n",
    "    '''\n",
    "    Using Q(eq.37) compute Thm, then compare it with guess Thm. \n",
    "    Params\n",
    "    --------\n",
    "    Q: (kJ/(m2 hr)) \n",
    "    Hh: (kJ/(m2 K hr)) heat transfer coefficent in hotside channel.\n",
    "    Returns\n",
    "    ------\n",
    "    Thm (verified) C \n",
    "    '''\n",
    "    return Thb - Q/Hh "
   ]
  },
  {
   "cell_type": "code",
   "execution_count": 6,
   "metadata": {
    "collapsed": true
   },
   "outputs": [],
   "source": [
    "# Dab\n",
    "def CalculateDab(T, P):\n",
    "    '''\n",
    "    Dab is diffusivity between air and water vapour.\n",
    "    Equation of Dab both used in membrane & air-gap mass transfer. \n",
    "    Dab is estimated by T&p, but the dimension is m2/s(or said m2/hr).\n",
    "    Params\n",
    "    -------\n",
    "    T: average temperature in the membrane.(C)\n",
    "    P: total pressure in the membrane.(Pa)\n",
    "    \n",
    "    Returns\n",
    "    ---------\n",
    "    Dab: (m2/hr)\n",
    "    \n",
    "    '''\n",
    "    return 1.895e-5*T**2.072/P*3600"
   ]
  },
  {
   "cell_type": "code",
   "execution_count": 7,
   "metadata": {
    "collapsed": true
   },
   "outputs": [],
   "source": [
    "# Compute A\n",
    "def CalculateA(Tavg, P):\n",
    "    '''\n",
    "    Params\n",
    "    ------\n",
    "    Tavg: (C) Average temperature inside the membrane.\n",
    "    P: (Pa) Total pressure inside the membrane.\n",
    "    Returns\n",
    "    -------\n",
    "    A : (kg/hr/m2/Pa) Jv/A = Pma-Pf \n",
    "    '''\n",
    "    Dab = CalculateDab(Tavg,P)\n",
    "    return Dab*Mv/delta_a/R/Tavg"
   ]
  },
  {
   "cell_type": "code",
   "execution_count": 8,
   "metadata": {
    "collapsed": true
   },
   "outputs": [],
   "source": [
    "# Water vapour partial pressure\n",
    "def VaporPressure(T):\n",
    "    '''\n",
    "    Params\n",
    "    ------\n",
    "    T: (K) Temperature of water vapour(or mixture of water vapour and air).\n",
    "    Attention! T in K!\n",
    "    \n",
    "    Returns\n",
    "    -------\n",
    "    P: (Pa) water vapour Partial pressure.\n",
    "    '''\n",
    "    b = [-7.8889166,2.5514255,-6.716169,33.239495,-105.38479,174.35319,-148.39348,48.631602]\n",
    "    Tcrit = 647.25 # K \n",
    "    Pcrit = 22.093e6 # Pa\n",
    "    # sum_b = np.zeros(len(T))\n",
    "    sum_b = 0.\n",
    "    for i in range(8):\n",
    "        sum_b += b[i]*(1-T/Tcrit)**(.5*(i+1)+.5)\n",
    "    Pd = Pcrit*np.exp(Tcrit/T * sum_b)\n",
    "    return Pd "
   ]
  },
  {
   "cell_type": "code",
   "execution_count": 9,
   "metadata": {
    "collapsed": true
   },
   "outputs": [],
   "source": [
    "# miu\n",
    "def Calculatemiu(T, S):\n",
    "    '''\n",
    "    Compute miu, dynamic viscosity of water.\n",
    "    Parameters\n",
    "    ---------\n",
    "    T: (C) water temperature (20<T<180)\n",
    "    S: (g/kg) salinity (0<S<130)\n",
    "    Returns\n",
    "    --------\n",
    "    miu: (kg/m/s)\n",
    "    \n",
    "    '''\n",
    "    uw = np.exp(-3.7942+604.129/(139.18+T))\n",
    "    A = 1.474e-3 + 1.5e-6*T - 3.927e-8*T**2\n",
    "    B = 1.0734e-5 - 8.5e-8*T + 2.23e-10*T**2\n",
    "    uR = 1 + A*S + B*S**2\n",
    "    return uw*uR*0.001 "
   ]
  },
  {
   "cell_type": "code",
   "execution_count": 10,
   "metadata": {
    "collapsed": true
   },
   "outputs": [],
   "source": [
    "# Compute specific heat capacity\n",
    "## not used yet.\n",
    "def CalculateCp():\n",
    "    '''\n",
    "    Compute heat capacity for water.\n",
    "    Parameters\n",
    "    ----------\n",
    "    T: (C) water temperature (10,180)\n",
    "    S: (g/kg) Salinity (20,160)\n",
    "    Returns \n",
    "    ----------\n",
    "    Cp: (kJ/kg/C) at constant pressure.\n",
    "    \n",
    "    '''\n",
    "    A = 4206.8 - 6.6197*S + 1.2288e-2*S**2\n",
    "    B = -1.1262 + 5.4178e-2*S - 2.2719e-4*S**2 \n",
    "    C = 1.2026e-2 - 5.3566e-4*S + 1.8906e-6*S**2 \n",
    "    D = 6.8777e-7 + 1.517e-6*S - 4.4268e-9*S**2 \n",
    "    return (A+B*T+C*T**2+D*T**3)*0.001 "
   ]
  },
  {
   "cell_type": "code",
   "execution_count": 11,
   "metadata": {
    "collapsed": true
   },
   "outputs": [],
   "source": [
    "# enthalpy for saturated water vapour\n",
    "def CalculateEnthalpy(T):\n",
    "    '''\n",
    "    Params\n",
    "    ------\n",
    "    T: (C) range of (0.01-200 C) Temperature of water vapour.\n",
    "    \n",
    "    Returns\n",
    "    ----------\n",
    "    hg: (kJ/kg) Enthalpy in kJ/kg.\n",
    "    '''\n",
    "    return 2501.689845 + 1.80692*T + 5.08772e-4*T**2"
   ]
  },
  {
   "cell_type": "code",
   "execution_count": 12,
   "metadata": {
    "collapsed": true
   },
   "outputs": [],
   "source": [
    "# Compute K of saline water.\n",
    "## not used yet\n",
    "def CalculateK_water(T, S):\n",
    "    '''\n",
    "    This func is for liquid salt water.\n",
    "    Params\n",
    "    -------\n",
    "    T: (C) 20-180 C Temperature. (20-80)C is acceptable.\n",
    "    S: (g/kg) 0-160 Salinity.\n",
    "    \n",
    "    Returns\n",
    "    --------\n",
    "    K: (W/(m C)) Thermal conductivity.\n",
    "    \n",
    "    ---------------------------------------------------------------------\n",
    "    For K, thermal conductivity of membrane.\n",
    "    For Kab, thermal conductivity of gas mixture of air and water vapour.\n",
    "    For Kf, thermal conductivity of condensed water film.\n",
    "    For Kw, thermal conductivity of cooling plate. \n",
    "    \n",
    "    Is K varies too small in Temperature range?\n",
    "    Range of temperature: 20-80 C\n",
    "    20-80C, Kab varies about 16%, Kf about 11%.\n",
    "    ## Premise, Kab = 2.83e-2(50C), Kf = 0.618(30C), K = , Kw = 40(char-steel).\n",
    "    # Attention! This func. has problem that results is 1000 times larger. I just make results /1000. \n",
    "    # in the range of (20-80)C, the error is acceptable. \n",
    "    '''\n",
    "    A = 2e-4\n",
    "    B = 3.7e-2 \n",
    "    C = 3e-2 \n",
    "    Log10_K = np.log10(240+A*S) +\\\n",
    "            0.434*(2.3-(343.5+B*S)/(T+273.15))*(1-(T+273.15)/(647.3+C*S))**(1./3)\n",
    "    K = 10**Log10_K*.001\n",
    "    return K"
   ]
  },
  {
   "cell_type": "code",
   "execution_count": 13,
   "metadata": {
    "collapsed": true
   },
   "outputs": [],
   "source": [
    "# Compute H \n",
    "def CalculateH(k_liquid,rho,miu,V,Pr):\n",
    "    '''\n",
    "    This is used for compute H in the hotside or coldside channel.\n",
    "    Params\n",
    "    ----------\n",
    "    k_liquid: (kJ/(m K hr)) thermal conductivity of hot or cold body.\n",
    "    rho: (kg/m3) use different rho when compute hot and cold water.\n",
    "    miu: (kg/m/s)dynamic viscosity.\n",
    "    V: (m/hr) velocity of water.\n",
    "    Pr = niu/a = miu*Cp/K # varies a lot!\n",
    "    \n",
    "    Returns\n",
    "    ---------\n",
    "    H: (kJ/(m2 K hr))=(3600*kW/(m2 K)) heat transfer coefficient.\n",
    "    '''\n",
    "    Ks = 1.904*(df/hs)**(-.039)*epsilon_s**.75*np.sin((np.pi/4)**.086)\n",
    "    dh = 4.*epsilon_s*df*hs/(2*df + 4*(1-epsilon_s)*hs)\n",
    "    Re = rho*dh*V/3600./miu # params of the body.\n",
    "    Nu = 0.029*Ks*Re**.8*Pr**.33\n",
    "    print \"Ks: %r\" %Ks\n",
    "    print \"Nu: %r\" %Nu\n",
    "    print \"Re: %r\" %Re\n",
    "    return Nu*k_liquid/dh"
   ]
  },
  {
   "cell_type": "code",
   "execution_count": 14,
   "metadata": {
    "collapsed": true
   },
   "outputs": [],
   "source": [
    "# Compute Pr\n",
    "def CalculatePr(miu,Cp,K):\n",
    "    '''\n",
    "    This func has 2 method to compute Pr, so that Nu can be calculated.\n",
    "    One is linear function.\n",
    "    The other is number sections.\n",
    "    \n",
    "    Params\n",
    "    ------ \n",
    "    1.\n",
    "    miu: (kg/m/s)\n",
    "    cp: (kJ/kg/K)\n",
    "    K: (kJ/(m K hr)) # attention! kJ/(...hr)\n",
    "    \n",
    "    2. T:(C) Temperature of water.\n",
    "    \n",
    "    Returns\n",
    "    ---------\n",
    "    Pr \n",
    "    '''\n",
    "    \n",
    "    return miu*Cp/(K/3600)\n",
    "    # if T>=20 and T<40:\n",
    "        # Pr = 5.5 \n",
    "    # elif T>=40 and T<60:\n",
    "        # Pr = 3.6 \n",
    "    # elif T>=60 and T<=80:\n",
    "        # Pr = 2.6\n",
    "    # else:\n",
    "        # raise ValueError(\"Input is out of range!\")\n",
    "    # return Pr "
   ]
  },
  {
   "cell_type": "code",
   "execution_count": 15,
   "metadata": {
    "collapsed": false
   },
   "outputs": [],
   "source": [
    "# Checking nominal Numbers\n",
    "def CheckNumber(name):\n",
    "    '''\n",
    "    This func is for check: vapour pressure,miu,enthalpy,K_water,heat capacity,Re,Pr,diffusivity.\n",
    "    '''\n",
    "    # Input values.\n",
    "    T_input = np.array([20,30,40,50,60,70,80]) # in C\n",
    "    # Test values.\n",
    "    # testvalue = np.empty_like(inputvalue,dtype=np.ndarray)\n",
    "    print \"While the T_inputs are:[20,30,40,50,60,70,80]C.\"\n",
    "    print \"The test values are:\"\n",
    "    if name == 'VapourPressure':\n",
    "        Pd = VaporPressure(T_input+273.15)\n",
    "        print \"Pd, partial vapour pressure: %r (Pa)\" %Pd # Pd, VaporPressure() is validated.\n",
    "    elif name == 'miu':\n",
    "        # pure water S = 0\n",
    "        S_purewater = np.zeros(len(T_input))\n",
    "        miu_purewater = Calculatemiu(T_input,S_purewater)\n",
    "        testvalue.append(miu_purewater)\n",
    "        print \"miu, dynamic viscosity of pure water: %r (Pa s)\" %miu_purewater # miu, Validated.\n",
    "        S_salinewater = np.ones(len(T_input))*35\n",
    "        miu_salinewater = Calculatemiu(T_input,S_salinewater)\n",
    "        testvalue.append(miu_salinewater)\n",
    "        print \"miu, dynamic viscosity of saline water: %r (Pa s)\" %miu_salinewater # miu, Validated.\n",
    "    elif name == 'enthalpy':\n",
    "        enthalpy = CalculateEnthalpy(T_input)\n",
    "        print \"Enthalpy of water vapour: %r (kJ/kg)\" %enthalpy # Enthalpy validated.\n",
    "    elif name == 'K_water':\n",
    "        K_water = CalculateK_water(T_input,0)\n",
    "        print \"K_water for pure water: %r (W/(m C))\" %K_water # NOT!\n",
    "    elif name == 'Pr':\n",
    "        # for pure water:\n",
    "        S_purewater = np.zeros(len(T_input))\n",
    "        miu = Calculatemiu(T_input,S_purewater)\n",
    "        Cp = 4.19*1000 #J/kg/C\n",
    "        K = .63 #W/m/C\n",
    "        Pr = CalculatePr(miu,Cp,K)\n",
    "        print \"Pr for pure water is: %r\" %Pr # Pr is Validated.\n",
    "    elif name == 'diffusivity':\n",
    "        P = 101325 # Pa\n",
    "        T = 313 #C\n",
    "        D = CalculateDab(T,P)\n",
    "        print \"Diffusivity between water vapour and air: %r\" % D # NOT!\n",
    "    elif name == 'H':\n",
    "        V = 2.*3600 #(m/hr) average velocity of water\n",
    "        miu = Calculatemiu(30.,0)\n",
    "        Pr = 5.42 #CalculatePr(miu_hot,Cp_hot,K_hotwater)\n",
    "        rho = 1000. #(kg/m3)\n",
    "        k_l = 0.618 #(W/(m K))\n",
    "        H = CalculateH(k_l,rho,miu,V,Pr)\n",
    "        print \"H, for Heat Transfer a example: %r (W/(m2 K))\" %H # Validated, but whether dh is right?\n",
    "        print \"miu: %r(Pa s)\" %miu\n",
    "    else:\n",
    "        raise ValueError(\"Please input a valid string!\")"
   ]
  },
  {
   "cell_type": "code",
   "execution_count": 16,
   "metadata": {
    "collapsed": false,
    "scrolled": true
   },
   "outputs": [
    {
     "name": "stdout",
     "output_type": "stream",
     "text": [
      "While the T_inputs are:[20,30,40,50,60,70,80]C.\n",
      "The test values are:\n",
      "Ks: 1.3459410827849925\n",
      "Nu: 25.580628209300723\n",
      "Re: 1651.3314117296111\n",
      "H, for Heat Transfer a example: 23936.616930069074 (W/(m2 K))\n",
      "miu: 0.00079989441534429856(Pa s)\n"
     ]
    }
   ],
   "source": [
    "CheckNumber('H')"
   ]
  },
  {
   "cell_type": "code",
   "execution_count": 17,
   "metadata": {
    "collapsed": false
   },
   "outputs": [],
   "source": [
    "# Initializing\n",
    "def Init(Nx,length_x,mh0):\n",
    "    '''\n",
    "    Initial properties of working medium.\n",
    "    Params\n",
    "    ------\n",
    "    All global variables.\n",
    "    \n",
    "    Returns\n",
    "    ---------\n",
    "    All Numpy arrays.\n",
    "    Thb,Tcb,Tf,Thm,Tma,Tfw,Tcw,mh,S_hot\n",
    "    '''\n",
    "    # For i = 0, Thb0,Tcb0,x0.\n",
    "    # For i = -1, ThbL,TcbL,xL.\n",
    "    # Temperature in C.\n",
    "    Thb = np.ones(Nx)*Thb0 \n",
    "    Tcb = np.ones(Nx)*TcbL \n",
    "    Tf = np.ones(Nx)\n",
    "    Thm = np.ones(Nx)\n",
    "    Tma = np.ones(Nx)\n",
    "    Tfw = np.ones(Nx)\n",
    "    Tcw = np.ones(Nx)\n",
    "    mh = np.ones(Nx)*mh0\n",
    "    S_hot = np.ones(Nx)*Sh\n",
    "    \n",
    "    return Thb,Tcb,Tf,Thm,Tma,Tfw,Tcw,mh,S_hot"
   ]
  },
  {
   "cell_type": "code",
   "execution_count": 18,
   "metadata": {
    "collapsed": true
   },
   "outputs": [],
   "source": [
    "# Computation for Jv\n",
    "def ComputationForJv(Tave,Thm,Tf):\n",
    "    '''\n",
    "    For neat code in the Loop.\n",
    "    '''\n",
    "    Pv = VaporPressure(Tave+273.15) # water vapour pressure inside membrane\n",
    "    C = CalculateC(Tave,Ptotal,Pv)\n",
    "    A = CalculateA(Tave,Ptotal)\n",
    "    Phm = VaporPressure(Thm+273.15)\n",
    "    Pf = VaporPressure(Tf+273.15)\n",
    "    return C,A,Phm,Pf"
   ]
  },
  {
   "cell_type": "code",
   "execution_count": 19,
   "metadata": {
    "collapsed": false
   },
   "outputs": [],
   "source": [
    "# Computation for Q\n",
    "def ComputationForQ(mh,Thm,Tf,Thb,S_hot):\n",
    "    '''\n",
    "    Forc neat code in the Loop.\n",
    "    '''\n",
    "    Vh = mh/rho_hotwater/(W*height)#(m/hr) average velocity of water\n",
    "    hg = CalculateEnthalpy(.5*(Thm+Tf))\n",
    "    miu_hot = Calculatemiu(Thb,S_hot)\n",
    "    Pr_hot = CalculatePr(miu_hot,Cp_hot,K_hotwater)\n",
    "    Hh = CalculateH(K_hotwater,rho_hotwater,miu_hot,Vh,Pr_hot)\n",
    "    return hg,Hh"
   ]
  },
  {
   "cell_type": "code",
   "execution_count": 20,
   "metadata": {
    "collapsed": true
   },
   "outputs": [],
   "source": [
    "# Computation for Tf\n",
    "def ComputationForTf(Tcb):\n",
    "    '''For neat code.'''\n",
    "    Vc = mc/rho_coldwater/(W*height)#(m/hr) average velocity of water\n",
    "    miu_cold = Calculatemiu(Tcb,Sc)\n",
    "    Pr_cold = CalculatePr(miu_cold,Cp_cold,K_coldwater)\n",
    "    Hc = CalculateH(K_coldwater,rho_coldwater,miu_cold,Vc,Pr_cold)\n",
    "    return Hc"
   ]
  },
  {
   "cell_type": "code",
   "execution_count": 21,
   "metadata": {
    "collapsed": true
   },
   "outputs": [],
   "source": [
    "currentRegime = 'co-current' # 'co-current' or 'counter-current'"
   ]
  },
  {
   "cell_type": "code",
   "execution_count": 22,
   "metadata": {
    "collapsed": false
   },
   "outputs": [
    {
     "ename": "ValueError",
     "evalue": "The process blocked. This can't be iterated in counter-current regime",
     "output_type": "error",
     "traceback": [
      "\u001b[1;31m---------------------------------------------------------------------------\u001b[0m",
      "\u001b[1;31mValueError\u001b[0m                                Traceback (most recent call last)",
      "\u001b[1;32m<ipython-input-22-9b64a8616227>\u001b[0m in \u001b[0;36m<module>\u001b[1;34m()\u001b[0m\n\u001b[0;32m      6\u001b[0m     \u001b[1;32mprint\u001b[0m \u001b[1;34m\"The following results are from counter-current.\"\u001b[0m\u001b[1;33m\u001b[0m\u001b[0m\n\u001b[0;32m      7\u001b[0m \u001b[1;32melse\u001b[0m\u001b[1;33m:\u001b[0m\u001b[1;33m\u001b[0m\u001b[0m\n\u001b[1;32m----> 8\u001b[1;33m     \u001b[1;32mraise\u001b[0m \u001b[0mValueError\u001b[0m\u001b[1;33m(\u001b[0m\u001b[1;34m\"The process blocked. This can't be iterated in counter-current regime\"\u001b[0m\u001b[1;33m)\u001b[0m\u001b[1;33m\u001b[0m\u001b[0m\n\u001b[0m\u001b[0;32m      9\u001b[0m \u001b[1;33m\u001b[0m\u001b[0m\n\u001b[0;32m     10\u001b[0m \u001b[0mlearnRate\u001b[0m \u001b[1;33m=\u001b[0m \u001b[1;36m1.\u001b[0m\u001b[1;33m\u001b[0m\u001b[0m\n",
      "\u001b[1;31mValueError\u001b[0m: The process blocked. This can't be iterated in counter-current regime"
     ]
    }
   ],
   "source": [
    "# Loop for counter-current\n",
    "\n",
    "'''This Loop needs to be verify, using the next \"co-current\" Loop.\n",
    "'''\n",
    "if currentRegime == 'counter-current':\n",
    "    print \"The following results are from counter-current.\"\n",
    "else:\n",
    "    raise ValueError(\"The process blocked. This can't be iterated in counter-current regime\")\n",
    "    \n",
    "learnRate = 1.\n",
    "error_Tcb = 10.\n",
    "error_i = 0 # alpha/(error_i+1) to make alpha decrease every step.\n",
    "Tcb[0] = .5*(Thb[0]+Tcb[-1]) # supposed\n",
    "while error_Tcb > 0.1:\n",
    "    # how large the error?\n",
    "    \n",
    "    ## store what values want to show.\n",
    "    Jv_N = []\n",
    "    Q_N = []\n",
    "    delta_fN = []\n",
    "    \n",
    "    for i in range(Nx):\n",
    "\n",
    "        error_Tf = 10.\n",
    "        Tf[i] = .5*(Thb[i]+Tcb[i]) # supposed\n",
    "        while error_Tf > 0.1:\n",
    "            # error large?\n",
    "            error_Thm = 10.\n",
    "            Thm[i] = .5*(Thb[i]+Tf[i]) # supposed\n",
    "            error_Thm_threshold = 0.1 # threshold for error(while)\n",
    "            while error_Thm > error_Thm_threshold:\n",
    "                # How large is the error? -- speed up! if clause for error_threshold ,when error_ is considerable small.\n",
    "                \n",
    "                Tave = .5*(Thm[i]+Tma[i]) # average temperature inside membrane\n",
    "                C,A,Phm,Pf = ComputationForJv(Tave,Thm[i],Tf[i])\n",
    "                Jv = (1./C + 1./A)**(-1)*(Phm-Pf) #Compute C,A,Pf,Pmh\n",
    "                \n",
    "                hg,Hh = ComputationForQ(mh[i],Thm[i],Tf[i],Thb[i],S_hot[i])\n",
    "                Q = (Thb[i] - Tf[i] + Jv*hg*(delta_m/K+delta_a/Kab))/(1./Hh+delta_m/K+delta_a/Kab) \n",
    "                #Compute hg,Hh. K,delta_a/m are Const. T depends on grid.\n",
    "                \n",
    "                Thm_temp = VerifyThm(Q,Hh,Thb[i])\n",
    "                error_Thm = abs(Thm_temp - Thm[i])\n",
    "                Thm[i] = Thm_temp\n",
    "            \n",
    "            miu_f = Calculatemiu(Tf[i],0)\n",
    "            delta_f = (3.*Jv*miu_f*rho_l*(rho_l - rho_av)*g*x[i])**(1./3) #rho_av,rho_l,g is Const. Compute miu. x depends on grid.\n",
    "            \n",
    "            Hc = ComputationForTf(Tcb[i])\n",
    "            Tf_temp = Q*(delta_f/Kf+delta_c/Kw+1./Hc) + Tcb[i] # Kf/w,delta_c/f are Const. Hc needs computed. T depends on grid.\n",
    "            \n",
    "            error_Tf = abs(Tf_temp - Tf[i])\n",
    "            Tf[i] = Tf_temp\n",
    "        # Next state\n",
    "        mh[i+1] = mh[i]-Jv*dx*W\n",
    "        S[i+1] = mh[i]*S[i]/mh[i+1]\n",
    "        # compute Cph,Cpc separately\n",
    "        Thb[i+1] = (mh[i]*Cp_hot*Thb[i] - Q*dx*W)/Cp_hot/mh[i+1]\n",
    "        Tcb[i+1] = Tcb[i] - Q*dx*W/(Cp_cold*mc)\n",
    "        \n",
    "        # Outputs Jv,Q,delta_f arrays\n",
    "        Jv_N.append(Jv)\n",
    "        Q_N.append(Q)\n",
    "        delta_fN.append(delta_f)\n",
    "    \n",
    "    temp_move = Tcb[-1] - TcbL\n",
    "    error_Tcb = abs(temp_move)\n",
    "    \n",
    "    alpha = 1./(error_i+1)*learnRate\n",
    "    error_i += 1 \n",
    "    Tcb[0] = Tcb[0] - temp_move*alpha"
   ]
  },
  {
   "cell_type": "code",
   "execution_count": null,
   "metadata": {
    "collapsed": true
   },
   "outputs": [],
   "source": [
    "# Checking\n",
    "def Checking(Jv,delta_f,Q,Tf,temp):\n",
    "    '''\n",
    "    This func is only for checking inter-loop results by print them.\n",
    "    \n",
    "    '''\n",
    "    print \n",
    "    print \"This is checking function:\"\n",
    "    print 'Jv, water vapor flux: %r(kg/m2/hr)' %Jv\n",
    "    print \"delta_f: %r (m)\" %delta_f \n",
    "    print \"Q, transport energy: %r(kJ/m2/hr)\" %Q \n",
    "    print \"Tf,temperature of falling water flim: %r(C)\" %Tf \n",
    "    print \"The criterion value is: %r \" %temp"
   ]
  },
  {
   "cell_type": "code",
   "execution_count": null,
   "metadata": {
    "collapsed": false
   },
   "outputs": [],
   "source": [
    "Thb,Tcb,Tf,Thm,Tma,Tfw,Tcw,mh,S_hot = Init(Nx,length_x,mh0)"
   ]
  },
  {
   "cell_type": "code",
   "execution_count": null,
   "metadata": {
    "collapsed": false
   },
   "outputs": [],
   "source": [
    "# Loop for co-current\n",
    "if currentRegime == 'co-current':\n",
    "    print \"The following results are from co-current.\"\n",
    "else:\n",
    "    raise ValueError(\"The process blocked. This can't be iterated in co-current regime\")\n",
    "    \n",
    "'''\n",
    "learnRate = 1.\n",
    "error_Tcb = 10.\n",
    "error_i = 0 # alpha/(error_i+1) to make alpha decrease every step.\n",
    "Tcb[0] = .5*(Thb[0]+Tcb[-1]) # supposed\n",
    "'''\n",
    "\n",
    "## store what values want to show.\n",
    "Jv_N = []\n",
    "Q_N = []\n",
    "delta_fN = []\n",
    "\n",
    "for i in range(Nx):\n",
    "    error_Tf = 10.\n",
    "    Tf[i] = .5*(Thb[i]+Tcb[i]) # supposed\n",
    "    while error_Tf > 0.1:\n",
    "        # error large?\n",
    "        error_Thm = 10.\n",
    "        Thm[i] = .5*(Thb[i]+Tf[i]) # supposed\n",
    "        error_Thm_threshold = 1e-5 # threshold for error(while)\n",
    "        while error_Thm > error_Thm_threshold:\n",
    "            # How large is the error? -- speed up! if clause for error_threshold ,when error_ is considerable small.\n",
    "\n",
    "            Tave = .5*(Thm[i]+Tma[i]) # average temperature inside membrane\n",
    "            C,A,Phm,Pf = ComputationForJv(Tave,Thm[i],Tf[i])\n",
    "            Jv = (1./C + 1./A)**(-1)*(Phm-Pf) #Compute C,A,Pf,Pmh\n",
    "\n",
    "            hg,Hh = ComputationForQ(mh[i],Thm[i],Tf[i],Thb[i],S_hot[i])\n",
    "            Q = (Thb[i] - Tf[i] + Jv*hg*(delta_m/K+delta_a/Kab))/(1./Hh+delta_m/K+delta_a/Kab) \n",
    "            #Compute hg,Hh. K,delta_a/m are Const. T depends on grid.\n",
    "\n",
    "            Thm_temp = VerifyThm(Q,Hh,Thb[i])\n",
    "            error_Thm = abs(Thm_temp - Thm[i])\n",
    "            Thm[i] = Thm_temp\n",
    "            \n",
    "            #Checking\n",
    "            Checking(Jv,\"no deltaf\",Q,Tf[i],Thm[i])\n",
    "            \n",
    "\n",
    "        raw_input(\"1st Loop ends here. Use kepboard to interrupt.\")\n",
    "        miu_f = Calculatemiu(Tf[i],0)\n",
    "        #$delta_f = (3.*Jv*miu_f*rho_l*(rho_l - rho_av)*g*x[i])**(1./3) #rho_av,rho_l,g is Const. Compute miu. x depends on grid.\n",
    "        delta_f = (3.*Jv/3600*miu_f/(rho_l*(rho_l - rho_av)*g)*x[i])**(1./3) #rho_av,rho_l,g is Const. Compute miu. x depends on grid.\n",
    "        Hc = ComputationForTf(Tcb[i])\n",
    "        Tf_temp = Q*(delta_f/Kf+delta_c/Kw+1./Hc) + Tcb[i] # Kf/w,delta_c/f are Const. Hc needs computed. T depends on grid.\n",
    "\n",
    "        error_Tf = abs(Tf_temp - Tf[i])\n",
    "        Tf[i] = Tf_temp\n",
    "    # Next state\n",
    "    mh[i+1] = mh[i]-Jv*dx*W\n",
    "    S_hot[i+1] = mh[i]*S_hot[i]/mh[i+1]\n",
    "    # compute Cph,Cpc separately\n",
    "    Thb[i+1] = (mh[i]*Cp_hot*Thb[i] - Q*dx*W)/Cp_hot/mh[i+1]\n",
    "    Tcb[i+1] = Tcb[i] - Q*dx*W/(Cp_cold*mc)\n",
    "\n",
    "    # Outputs Jv,Q,delta_f arrays\n",
    "    Jv_N.append(Jv)\n",
    "    Q_N.append(Q)\n",
    "    delta_fN.append(delta_f)\n",
    "'''\n",
    "temp_move = Tcb[-1] - TcbL\n",
    "error_Tcb = abs(temp_move)\n",
    "\n",
    "alpha = 1./(error_i+1)*learnRate\n",
    "error_i += 1 \n",
    "Tcb[0] = Tcb[0] - temp_move*alpha'''"
   ]
  },
  {
   "cell_type": "code",
   "execution_count": null,
   "metadata": {
    "collapsed": true
   },
   "outputs": [],
   "source": []
  }
 ],
 "metadata": {
  "kernelspec": {
   "display_name": "Python 2",
   "language": "python",
   "name": "python2"
  },
  "language_info": {
   "codemirror_mode": {
    "name": "ipython",
    "version": 2
   },
   "file_extension": ".py",
   "mimetype": "text/x-python",
   "name": "python",
   "nbconvert_exporter": "python",
   "pygments_lexer": "ipython2",
   "version": "2.7.9"
  }
 },
 "nbformat": 4,
 "nbformat_minor": 0
}
